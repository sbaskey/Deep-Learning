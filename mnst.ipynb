{
  "nbformat": 4,
  "nbformat_minor": 0,
  "metadata": {
    "colab": {
      "name": "mnst.ipynb",
      "provenance": [],
      "include_colab_link": true
    },
    "kernelspec": {
      "name": "python3",
      "display_name": "Python 3"
    }
  },
  "cells": [
    {
      "cell_type": "markdown",
      "metadata": {
        "id": "view-in-github",
        "colab_type": "text"
      },
      "source": [
        "<a href=\"https://colab.research.google.com/github/sbaskey/Deep-Learning/blob/master/mnst.ipynb\" target=\"_parent\"><img src=\"https://colab.research.google.com/assets/colab-badge.svg\" alt=\"Open In Colab\"/></a>"
      ]
    },
    {
      "cell_type": "code",
      "metadata": {
        "id": "qRoFhg64odjv",
        "colab_type": "code",
        "outputId": "b11bb630-2109-4f64-db39-8b86b3bbc9fc",
        "colab": {
          "base_uri": "https://localhost:8080/",
          "height": 34
        }
      },
      "source": [
        "#importing necessary library\n",
        "from __future__ import print_function\n",
        "import keras\n",
        "from keras.datasets import mnist\n",
        "from keras.models import Sequential\n",
        "from keras.layers import Dense, Dropout, Flatten\n",
        "from keras.layers import Conv2D, MaxPooling2D\n",
        "from keras import backend as K\n",
        "from sklearn.model_selection import train_test_split\n",
        "from keras import optimizers\n",
        "from keras.callbacks import ModelCheckpoint,EarlyStopping\n",
        "import time\n",
        "from keras.layers import LeakyReLU\n",
        "from tensorflow.keras import layers"
      ],
      "execution_count": 1,
      "outputs": [
        {
          "output_type": "stream",
          "text": [
            "Using TensorFlow backend.\n"
          ],
          "name": "stderr"
        }
      ]
    },
    {
      "cell_type": "code",
      "metadata": {
        "id": "OstCClAVooqs",
        "colab_type": "code",
        "colab": {}
      },
      "source": [
        "batch_size = 128\n",
        "num_classes = 10\n",
        "epochs = 20"
      ],
      "execution_count": 0,
      "outputs": []
    },
    {
      "cell_type": "code",
      "metadata": {
        "id": "NN7yCK7mosB_",
        "colab_type": "code",
        "colab": {
          "base_uri": "https://localhost:8080/",
          "height": 51
        },
        "outputId": "03c628e2-0d0c-4059-fbae-8a5f256d6a14"
      },
      "source": [
        "# input image dimensions\n",
        "img_rows, img_cols = 28, 28\n",
        "\n",
        "# the data, split between train and test sets\n",
        "(gx_train, gy_train), (gx_test, gy_test) = mnist.load_data()"
      ],
      "execution_count": 3,
      "outputs": [
        {
          "output_type": "stream",
          "text": [
            "Downloading data from https://s3.amazonaws.com/img-datasets/mnist.npz\n",
            "11493376/11490434 [==============================] - 1s 0us/step\n"
          ],
          "name": "stdout"
        }
      ]
    },
    {
      "cell_type": "code",
      "metadata": {
        "id": "m_TDuf4Qo5YY",
        "colab_type": "code",
        "colab": {}
      },
      "source": [
        "if K.image_data_format() == 'channels_first':\n",
        "    gx_train = gx_train.reshape(gx_train.shape[0], 1, img_rows, img_cols)\n",
        "    gx_test = gx_test.reshape(gx_test.shape[0], 1, img_rows, img_cols)\n",
        "    input_shape = (1, img_rows, img_cols)\n",
        "else:\n",
        "    gx_train = gx_train.reshape(gx_train.shape[0], img_rows, img_cols, 1)\n",
        "    gx_test = gx_test.reshape(gx_test.shape[0], img_rows, img_cols, 1)\n",
        "    input_shape = (img_rows, img_cols, 1)"
      ],
      "execution_count": 0,
      "outputs": []
    },
    {
      "cell_type": "code",
      "metadata": {
        "id": "NLrKOojNpFcr",
        "colab_type": "code",
        "outputId": "81afc64a-ddfc-4d8e-a850-5ab1bb46725e",
        "colab": {
          "base_uri": "https://localhost:8080/",
          "height": 68
        }
      },
      "source": [
        "print('x_train shape:', gx_train.shape)\n",
        "print(gx_train.shape[0], 'train samples')\n",
        "print(gx_test.shape[0], 'test samples')"
      ],
      "execution_count": 5,
      "outputs": [
        {
          "output_type": "stream",
          "text": [
            "x_train shape: (60000, 28, 28, 1)\n",
            "60000 train samples\n",
            "10000 test samples\n"
          ],
          "name": "stdout"
        }
      ]
    },
    {
      "cell_type": "code",
      "metadata": {
        "id": "Pvn8lYROpNOC",
        "colab_type": "code",
        "colab": {}
      },
      "source": [
        "#partitioning validation size as 5000\n",
        "gx_val, gx_test, gy_val, gy_test = train_test_split(gx_test, gy_test, test_size=0.5)"
      ],
      "execution_count": 0,
      "outputs": []
    },
    {
      "cell_type": "code",
      "metadata": {
        "id": "AOjEsfz7plKm",
        "colab_type": "code",
        "colab": {}
      },
      "source": [
        "#one hot encoding \n",
        "gy_train = keras.utils.to_categorical(gy_train, num_classes)\n",
        "gy_val = keras.utils.to_categorical(gy_val, num_classes)\n",
        "gy_test = keras.utils.to_categorical(gy_test, num_classes)"
      ],
      "execution_count": 0,
      "outputs": []
    },
    {
      "cell_type": "code",
      "metadata": {
        "id": "9X0sE8d1psHs",
        "colab_type": "code",
        "outputId": "f2146d92-c0e0-46f4-e371-50cf469e8a38",
        "colab": {
          "base_uri": "https://localhost:8080/",
          "height": 34
        }
      },
      "source": [
        "gy_test[0]"
      ],
      "execution_count": 8,
      "outputs": [
        {
          "output_type": "execute_result",
          "data": {
            "text/plain": [
              "array([0., 0., 0., 0., 0., 0., 0., 0., 0., 1.], dtype=float32)"
            ]
          },
          "metadata": {
            "tags": []
          },
          "execution_count": 8
        }
      ]
    },
    {
      "cell_type": "code",
      "metadata": {
        "id": "CGa6u9TUqCdV",
        "colab_type": "code",
        "colab": {}
      },
      "source": [
        "#function to train model with diffrenrent hyper parameter \n",
        "def do_mnst(model_,lr,nor,epochs):\n",
        "  if nor==1:\n",
        "    global gx_train\n",
        "    global gy_train\n",
        "    global gx_test\n",
        "    global gx_val\n",
        "    global gy_test\n",
        "    global gy_val\n",
        "    x_train=gx_train.astype('float32')\n",
        "    x_test=gx_test.astype('float32')\n",
        "    x_val=gx_val.astype('float32')\n",
        "    y_train=gy_train.astype('float32')\n",
        "    y_test=gy_test.astype('float32')\n",
        "    y_val=gy_val.astype('float32')\n",
        "\n",
        "    x_train /= 255.0\n",
        "    x_test /= 255.0\n",
        "    x_val/=255.0\n",
        "    y_test/=255.0\n",
        "    y_val/=255.0\n",
        "    y_test/=255.0\n",
        "    #x_train.shape\n",
        "  else:\n",
        "     x_train=gx_train\n",
        "     x_test=gx_test\n",
        "     x_val=gx_val\n",
        "     y_train=gy_train\n",
        "     y_test=gy_test\n",
        "     y_val=gy_val\n",
        "\n",
        "\n",
        "  model_.compile(loss=keras.losses.categorical_crossentropy,\n",
        "              optimizer=optimizers.SGD(lr=lr),\n",
        "              metrics=['accuracy'])\n",
        "  t1=time.time()\n",
        "  model_.fit(x_train, y_train,\n",
        "          batch_size=batch_size,\n",
        "          epochs=epochs,\n",
        "          verbose=0,\n",
        "          validation_data=(x_val, y_val))\n",
        "  t2=time.time()\n",
        "  score = model_.evaluate(x_test, y_test, verbose=0)\n",
        "  print('Test loss:', score[0])\n",
        "  print('Test accuracy:', score[1])\n",
        " # print(model_.summary())\n",
        "  print(\"time_takent to train the model\",t2-t1)\n"
      ],
      "execution_count": 0,
      "outputs": []
    },
    {
      "cell_type": "code",
      "metadata": {
        "id": "4iDKoojdu-Ym",
        "colab_type": "code",
        "colab": {}
      },
      "source": [
        ""
      ],
      "execution_count": 0,
      "outputs": []
    },
    {
      "cell_type": "markdown",
      "metadata": {
        "id": "3kxnAuAdz9Zd",
        "colab_type": "text"
      },
      "source": [
        "model1 with only 1 hidden layer"
      ]
    },
    {
      "cell_type": "code",
      "metadata": {
        "id": "MKeBne1yqPYR",
        "colab_type": "code",
        "outputId": "a75d0e87-9294-44fa-9a0f-5f2bfff41b01",
        "colab": {
          "base_uri": "https://localhost:8080/",
          "height": 71
        }
      },
      "source": [
        "#model with only one hidden layer\n",
        "model1 = Sequential()\n",
        "model1.add(Flatten())\n",
        "model1.add(Dense(32, activation='sigmoid'))\n",
        "model1.add(Dropout(0.5))\n",
        "model1.add(Dense(num_classes, activation='softmax'))"
      ],
      "execution_count": 10,
      "outputs": [
        {
          "output_type": "stream",
          "text": [
            "WARNING:tensorflow:From /usr/local/lib/python3.6/dist-packages/keras/backend/tensorflow_backend.py:66: The name tf.get_default_graph is deprecated. Please use tf.compat.v1.get_default_graph instead.\n",
            "\n"
          ],
          "name": "stdout"
        }
      ]
    },
    {
      "cell_type": "code",
      "metadata": {
        "id": "fD16IYzHqUWu",
        "colab_type": "code",
        "outputId": "bad34c3e-572a-422a-c8dd-7bd77db2a387",
        "colab": {
          "base_uri": "https://localhost:8080/",
          "height": 377
        }
      },
      "source": [
        "print(\"without normalization\")\n",
        "do_mnst(model1,0.1,0,20)"
      ],
      "execution_count": 11,
      "outputs": [
        {
          "output_type": "stream",
          "text": [
            "without normalization\n",
            "WARNING:tensorflow:From /usr/local/lib/python3.6/dist-packages/keras/optimizers.py:793: The name tf.train.Optimizer is deprecated. Please use tf.compat.v1.train.Optimizer instead.\n",
            "\n",
            "WARNING:tensorflow:From /usr/local/lib/python3.6/dist-packages/keras/backend/tensorflow_backend.py:541: The name tf.placeholder is deprecated. Please use tf.compat.v1.placeholder instead.\n",
            "\n",
            "WARNING:tensorflow:From /usr/local/lib/python3.6/dist-packages/keras/backend/tensorflow_backend.py:4432: The name tf.random_uniform is deprecated. Please use tf.random.uniform instead.\n",
            "\n",
            "WARNING:tensorflow:From /usr/local/lib/python3.6/dist-packages/keras/backend/tensorflow_backend.py:148: The name tf.placeholder_with_default is deprecated. Please use tf.compat.v1.placeholder_with_default instead.\n",
            "\n",
            "WARNING:tensorflow:From /usr/local/lib/python3.6/dist-packages/keras/backend/tensorflow_backend.py:3733: calling dropout (from tensorflow.python.ops.nn_ops) with keep_prob is deprecated and will be removed in a future version.\n",
            "Instructions for updating:\n",
            "Please use `rate` instead of `keep_prob`. Rate should be set to `rate = 1 - keep_prob`.\n",
            "WARNING:tensorflow:From /usr/local/lib/python3.6/dist-packages/keras/backend/tensorflow_backend.py:3576: The name tf.log is deprecated. Please use tf.math.log instead.\n",
            "\n",
            "WARNING:tensorflow:From /usr/local/lib/python3.6/dist-packages/tensorflow/python/ops/math_grad.py:1250: add_dispatch_support.<locals>.wrapper (from tensorflow.python.ops.array_ops) is deprecated and will be removed in a future version.\n",
            "Instructions for updating:\n",
            "Use tf.where in 2.0, which has the same broadcast rule as np.where\n",
            "Test loss: 0.5269745308876037\n",
            "Test accuracy: 0.8524\n",
            "time_takent to train the model 20.280267477035522\n"
          ],
          "name": "stdout"
        }
      ]
    },
    {
      "cell_type": "code",
      "metadata": {
        "id": "cRV6WOwQqUK_",
        "colab_type": "code",
        "outputId": "956fe583-8f64-4fca-bfcb-76ea4d59e02b",
        "colab": {
          "base_uri": "https://localhost:8080/",
          "height": 85
        }
      },
      "source": [
        "\n",
        "print(\"with normalization\")\n",
        "do_mnst(model1,0.1,1,20)"
      ],
      "execution_count": 12,
      "outputs": [
        {
          "output_type": "stream",
          "text": [
            "with normalization\n",
            "Test loss: 4.190840908631799e-06\n",
            "Test accuracy: 0.9208\n",
            "time_takent to train the model 20.515926837921143\n"
          ],
          "name": "stdout"
        }
      ]
    },
    {
      "cell_type": "markdown",
      "metadata": {
        "id": "apuyiwcQ0HW8",
        "colab_type": "text"
      },
      "source": [
        "Accuracy gets better with normalization"
      ]
    },
    {
      "cell_type": "code",
      "metadata": {
        "id": "cId56N3Erf-4",
        "colab_type": "code",
        "colab": {}
      },
      "source": [
        "#model 2 with 2 hidden layer\n",
        "model2 = Sequential()\n",
        "model2.add(Flatten())\n",
        "model2.add(Dense(32, activation='sigmoid'))\n",
        "model2.add(Dense(32, activation='sigmoid'))\n",
        "model2.add(Dropout(0.5))\n",
        "model2.add(Dense(num_classes, activation='softmax'))"
      ],
      "execution_count": 0,
      "outputs": []
    },
    {
      "cell_type": "code",
      "metadata": {
        "id": "WsGm1jMaro7V",
        "colab_type": "code",
        "colab": {}
      },
      "source": [
        "#model 3 with 3hidden layer\n",
        "model3 = Sequential()\n",
        "model3.add(Flatten())\n",
        "model3.add(Dense(32, activation='sigmoid'))\n",
        "model3.add(Dense(32, activation='sigmoid'))\n",
        "model3.add(Dense(32, activation='sigmoid'))\n",
        "model3.add(Dropout(0.5))\n",
        "model3.add(Dense(num_classes, activation='softmax'))"
      ],
      "execution_count": 0,
      "outputs": []
    },
    {
      "cell_type": "code",
      "metadata": {
        "id": "igL-SCMW02k0",
        "colab_type": "code",
        "outputId": "a671f3d9-68d3-4645-df1d-bc8977a24f9b",
        "colab": {
          "base_uri": "https://localhost:8080/",
          "height": 85
        }
      },
      "source": [
        "print(\"with 2 hiden layer\")\n",
        "do_mnst(model2,0.1,1,20)"
      ],
      "execution_count": 15,
      "outputs": [
        {
          "output_type": "stream",
          "text": [
            "with 2 hiden layer\n",
            "Test loss: 4.250770599173847e-06\n",
            "Test accuracy: 0.92\n",
            "time_takent to train the model 20.348302125930786\n"
          ],
          "name": "stdout"
        }
      ]
    },
    {
      "cell_type": "code",
      "metadata": {
        "id": "HJP2GWav0_hx",
        "colab_type": "code",
        "outputId": "ad438f35-37e8-4722-ba54-040c1f064ede",
        "colab": {
          "base_uri": "https://localhost:8080/",
          "height": 68
        }
      },
      "source": [
        "#with 3 hidden layer\n",
        "do_mnst(model3,0.1,1,20)"
      ],
      "execution_count": 16,
      "outputs": [
        {
          "output_type": "stream",
          "text": [
            "Test loss: 6.243836991779972e-06\n",
            "Test accuracy: 0.8988\n",
            "time_takent to train the model 21.10459566116333\n"
          ],
          "name": "stdout"
        }
      ]
    },
    {
      "cell_type": "markdown",
      "metadata": {
        "id": "GqJBPbbT2Ap-",
        "colab_type": "text"
      },
      "source": [
        "Model (2 hiden layer is doing better in terms of timing and accuracy)"
      ]
    },
    {
      "cell_type": "code",
      "metadata": {
        "id": "-VBBBYJs140o",
        "colab_type": "code",
        "outputId": "c23f85cb-b788-431e-8cb0-0ab6dac03d27",
        "colab": {
          "base_uri": "https://localhost:8080/",
          "height": 68
        }
      },
      "source": [
        "#model 2 with lr=0.001\n",
        "do_mnst(model2,0.001,0,20)"
      ],
      "execution_count": 17,
      "outputs": [
        {
          "output_type": "stream",
          "text": [
            "Test loss: 0.28711489325761796\n",
            "Test accuracy: 0.9184\n",
            "time_takent to train the model 20.22449254989624\n"
          ],
          "name": "stdout"
        }
      ]
    },
    {
      "cell_type": "code",
      "metadata": {
        "id": "KG4PqbMq2hoT",
        "colab_type": "code",
        "outputId": "859545b0-51e4-4f8a-f6d0-c74409811aa6",
        "colab": {
          "base_uri": "https://localhost:8080/",
          "height": 68
        }
      },
      "source": [
        "#model 2 with lr=0.0001\n",
        "do_mnst(model1,0.0001,0,20)"
      ],
      "execution_count": 18,
      "outputs": [
        {
          "output_type": "stream",
          "text": [
            "Test loss: 0.3030007659673691\n",
            "Test accuracy: 0.9088\n",
            "time_takent to train the model 19.69685173034668\n"
          ],
          "name": "stdout"
        }
      ]
    },
    {
      "cell_type": "markdown",
      "metadata": {
        "id": "aq-YEZL_23Gn",
        "colab_type": "text"
      },
      "source": [
        "  model2 with lr=0.001 is giving more accuracy compared to lr=0.0001"
      ]
    },
    {
      "cell_type": "code",
      "metadata": {
        "id": "GgNOE_nD3IJb",
        "colab_type": "code",
        "colab": {}
      },
      "source": [
        "#model 2 with 2 hidden layer and nodes 64\n",
        "model2 = Sequential()\n",
        "model2.add(Flatten())\n",
        "model2.add(Dense(64, activation='sigmoid'))\n",
        "model2.add(Dense(64, activation='sigmoid'))\n",
        "model2.add(Dropout(0.5))\n",
        "model2.add(Dense(num_classes, activation='softmax'))"
      ],
      "execution_count": 0,
      "outputs": []
    },
    {
      "cell_type": "code",
      "metadata": {
        "id": "l5axdJ123SSd",
        "colab_type": "code",
        "outputId": "eaf5f191-237e-4d13-f13f-e5c1a0c41998",
        "colab": {
          "base_uri": "https://localhost:8080/",
          "height": 68
        }
      },
      "source": [
        "#model 2 with node 64\n",
        "do_mnst(model2,0.001,0,20)"
      ],
      "execution_count": 20,
      "outputs": [
        {
          "output_type": "stream",
          "text": [
            "Test loss: 1.5944037229537964\n",
            "Test accuracy: 0.756\n",
            "time_takent to train the model 25.183111429214478\n"
          ],
          "name": "stdout"
        }
      ]
    },
    {
      "cell_type": "code",
      "metadata": {
        "id": "rMBF8Zia3ajz",
        "colab_type": "code",
        "colab": {}
      },
      "source": [
        "#model 2 with 2 hidden layer and nodes 128\n",
        "model2 = Sequential()\n",
        "model2.add(Flatten())\n",
        "model2.add(Dense(128, activation='sigmoid'))\n",
        "model2.add(Dense(128, activation='sigmoid'))\n",
        "model2.add(Dropout(0.5))\n",
        "model2.add(Dense(num_classes, activation='softmax'))"
      ],
      "execution_count": 0,
      "outputs": []
    },
    {
      "cell_type": "code",
      "metadata": {
        "id": "Ijcz3Kdc3ntU",
        "colab_type": "code",
        "outputId": "33c459ab-2880-4410-b557-2e39fe1aa95d",
        "colab": {
          "base_uri": "https://localhost:8080/",
          "height": 68
        }
      },
      "source": [
        "#model 2 with node 128 and lr=0.001\n",
        "do_mnst(model2,0.001,0,20)"
      ],
      "execution_count": 22,
      "outputs": [
        {
          "output_type": "stream",
          "text": [
            "Test loss: 1.1983607822418212\n",
            "Test accuracy: 0.7962\n",
            "time_takent to train the model 37.21574354171753\n"
          ],
          "name": "stdout"
        }
      ]
    },
    {
      "cell_type": "markdown",
      "metadata": {
        "id": "lpSLixYW_I8N",
        "colab_type": "text"
      },
      "source": [
        "          model with 2 hidden 32 nodes is doing better than 64 and 128 nodes"
      ]
    },
    {
      "cell_type": "code",
      "metadata": {
        "id": "hvQxVUxK7Pel",
        "colab_type": "code",
        "colab": {}
      },
      "source": [
        "#model with 2 hidden layer and nodes 32  and relu activation function\n",
        "model3 = Sequential()\n",
        "model3.add(Flatten())\n",
        "model3.add(Dense(32, activation='relu'))\n",
        "model3.add(Dense(32, activation='relu'))\n",
        "model3.add(Dropout(0.5))\n",
        "model3.add(Dense(num_classes, activation='softmax'))"
      ],
      "execution_count": 0,
      "outputs": []
    },
    {
      "cell_type": "code",
      "metadata": {
        "id": "-bdRvvbv7hBH",
        "colab_type": "code",
        "colab": {}
      },
      "source": [
        "#model with 2 hidden layer and nodes 32 and tanh  activation function\n",
        "model4 = Sequential()\n",
        "model4.add(Flatten())\n",
        "model4.add(Dense(32, activation='tanh'))\n",
        "model4.add(Dense(32, activation='tanh'))\n",
        "model4.add(Dropout(0.5))\n",
        "model4.add(Dense(num_classes, activation='softmax'))"
      ],
      "execution_count": 0,
      "outputs": []
    },
    {
      "cell_type": "code",
      "metadata": {
        "id": "7QouPzHv8LVO",
        "colab_type": "code",
        "outputId": "9d9a092d-5f82-48f2-d0be-b9a475a55fe4",
        "colab": {
          "base_uri": "https://localhost:8080/",
          "height": 54
        }
      },
      "source": [
        "\"\"\"#model with 2 hidden layer and nodes 32 and leaky_relu activation function\n",
        "model5 = Sequential()\n",
        "model5.add(Flatten())\n",
        "model5.add(Dense(32, activation='leaky_relu'))\n",
        "model5.add(Dense(32, activation='leaky_relu'))\n",
        "model5.add(Dropout(0.5))\n",
        "model5.add(Dense(num_classes, activation='softmax'))\"\"\""
      ],
      "execution_count": 25,
      "outputs": [
        {
          "output_type": "execute_result",
          "data": {
            "text/plain": [
              "\"#model with 2 hidden layer and nodes 32 and leaky_relu activation function\\nmodel5 = Sequential()\\nmodel5.add(Flatten())\\nmodel5.add(Dense(32, activation='leaky_relu'))\\nmodel5.add(Dense(32, activation='leaky_relu'))\\nmodel5.add(Dropout(0.5))\\nmodel5.add(Dense(num_classes, activation='softmax'))\""
            ]
          },
          "metadata": {
            "tags": []
          },
          "execution_count": 25
        }
      ]
    },
    {
      "cell_type": "code",
      "metadata": {
        "id": "pwsKTal-cWhs",
        "colab_type": "code",
        "outputId": "d36100d5-3381-433f-a725-94552e4145e0",
        "colab": {
          "base_uri": "https://localhost:8080/",
          "height": 68
        }
      },
      "source": [
        "do_mnst(model3,0.001,0,20)"
      ],
      "execution_count": 26,
      "outputs": [
        {
          "output_type": "stream",
          "text": [
            "Test loss: 0.7109663108825683\n",
            "Test accuracy: 0.8\n",
            "time_takent to train the model 21.22269082069397\n"
          ],
          "name": "stdout"
        }
      ]
    },
    {
      "cell_type": "code",
      "metadata": {
        "id": "LGutQ5EacqB-",
        "colab_type": "code",
        "outputId": "7e7915df-11af-4b46-b1bd-c7e3fe375540",
        "colab": {
          "base_uri": "https://localhost:8080/",
          "height": 68
        }
      },
      "source": [
        "do_mnst(model4,0.001,0,20)"
      ],
      "execution_count": 27,
      "outputs": [
        {
          "output_type": "stream",
          "text": [
            "Test loss: 0.4666232788085938\n",
            "Test accuracy: 0.8864\n",
            "time_takent to train the model 20.76862359046936\n"
          ],
          "name": "stdout"
        }
      ]
    },
    {
      "cell_type": "markdown",
      "metadata": {
        "id": "JDwEyTGjdYE5",
        "colab_type": "text"
      },
      "source": [
        "    sigmoid activation function with lr=0.001 and 32 nodes with 2 layer is     giving maximum score among all the models in terms of timing and accuracy\n",
        "    "
      ]
    }
  ]
}