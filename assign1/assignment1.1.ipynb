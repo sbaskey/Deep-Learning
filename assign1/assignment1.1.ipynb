{
 "cells": [
  {
   "cell_type": "code",
   "execution_count": 1,
   "metadata": {},
   "outputs": [],
   "source": [
    "import numpy as np\n",
    "import pandas as pd\n",
    "from matplotlib import pyplot as plt\n",
    "from sklearn.metrics import confusion_matrix\n",
    "from sklearn import metrics\n",
    "from sklearn.model_selection import train_test_split\n",
    "from sklearn import preprocessing\n",
    "import seaborn as sns"
   ]
  },
  {
   "cell_type": "markdown",
   "metadata": {},
   "source": [
    "# importing data"
   ]
  },
  {
   "cell_type": "code",
   "execution_count": 2,
   "metadata": {},
   "outputs": [
    {
     "data": {
      "text/html": [
       "<div>\n",
       "<style scoped>\n",
       "    .dataframe tbody tr th:only-of-type {\n",
       "        vertical-align: middle;\n",
       "    }\n",
       "\n",
       "    .dataframe tbody tr th {\n",
       "        vertical-align: top;\n",
       "    }\n",
       "\n",
       "    .dataframe thead th {\n",
       "        text-align: right;\n",
       "    }\n",
       "</style>\n",
       "<table border=\"1\" class=\"dataframe\">\n",
       "  <thead>\n",
       "    <tr style=\"text-align: right;\">\n",
       "      <th></th>\n",
       "      <th>x1</th>\n",
       "      <th>x2</th>\n",
       "      <th>y</th>\n",
       "    </tr>\n",
       "  </thead>\n",
       "  <tbody>\n",
       "    <tr>\n",
       "      <th>0</th>\n",
       "      <td>4.830686</td>\n",
       "      <td>3.050905</td>\n",
       "      <td>0.0</td>\n",
       "    </tr>\n",
       "    <tr>\n",
       "      <th>1</th>\n",
       "      <td>4.385330</td>\n",
       "      <td>4.491989</td>\n",
       "      <td>0.0</td>\n",
       "    </tr>\n",
       "    <tr>\n",
       "      <th>2</th>\n",
       "      <td>5.653520</td>\n",
       "      <td>4.852372</td>\n",
       "      <td>0.0</td>\n",
       "    </tr>\n",
       "    <tr>\n",
       "      <th>3</th>\n",
       "      <td>3.487049</td>\n",
       "      <td>5.517360</td>\n",
       "      <td>0.0</td>\n",
       "    </tr>\n",
       "    <tr>\n",
       "      <th>4</th>\n",
       "      <td>6.339344</td>\n",
       "      <td>5.173789</td>\n",
       "      <td>0.0</td>\n",
       "    </tr>\n",
       "  </tbody>\n",
       "</table>\n",
       "</div>"
      ],
      "text/plain": [
       "         x1        x2    y\n",
       "0  4.830686  3.050905  0.0\n",
       "1  4.385330  4.491989  0.0\n",
       "2  5.653520  4.852372  0.0\n",
       "3  3.487049  5.517360  0.0\n",
       "4  6.339344  5.173789  0.0"
      ]
     },
     "execution_count": 2,
     "metadata": {},
     "output_type": "execute_result"
    }
   ],
   "source": [
    "data=pd.read_csv(\"dataset1/Train1.csv\",header=None,names=[\"x1\",\"x2\",\"y\"])\n",
    "data.head()"
   ]
  },
  {
   "cell_type": "markdown",
   "metadata": {},
   "source": [
    "# splitting data into input and ouput data\n"
   ]
  },
  {
   "cell_type": "code",
   "execution_count": 3,
   "metadata": {},
   "outputs": [],
   "source": [
    "inputs=[]\n",
    "labels=data[\"y\"]\n",
    "for i in range(data.shape[0]):\n",
    "    inputs.append([data[\"x1\"][i],data[\"x2\"][i]])\n"
   ]
  },
  {
   "cell_type": "markdown",
   "metadata": {},
   "source": [
    "function for training and predicting the model.\n",
    "no of weights is 3(no of features plus bias)\n"
   ]
  },
  {
   "cell_type": "code",
   "execution_count": 4,
   "metadata": {},
   "outputs": [
    {
     "name": "stdout",
     "output_type": "stream",
     "text": [
      "[-16.86722397   0.3354653    1.10932381]\n"
     ]
    }
   ],
   "source": [
    "weights=np.random.randn(3)\n",
    "error=0\n",
    "iteration=0\n",
    "loss=0\n",
    "losses=[]\n",
    "def predict(input):\n",
    "        summation = np.dot(input,weights[1:]) + weights[0]\n",
    "        if summation >= 0:\n",
    "            activation = 1\n",
    "        else:\n",
    "            activation = 0            \n",
    "        return activation\n",
    "    \n",
    "def train(inputs, labels):\n",
    "    global iteration\n",
    "    for _ in range(100):\n",
    "        global loss\n",
    "        loss=0\n",
    "        for input, label in zip(inputs, labels):\n",
    "            prediction = predict(input)\n",
    "            weights[1:] += np.dot((int(label) - prediction) ,input)\n",
    "            if(prediction != label):\n",
    "                loss=loss+1\n",
    "            \n",
    "            weights[0] += (int(label) - prediction)\n",
    "        losses.append(loss)\n",
    "        iteration=iteration+1\n",
    "        \n",
    "train(inputs,labels)\n",
    "print(weights)"
   ]
  },
  {
   "cell_type": "code",
   "execution_count": 5,
   "metadata": {},
   "outputs": [
    {
     "data": {
      "image/png": "[encoded data removed]",
      "text/plain": [
       "<Figure size 432x288 with 1 Axes>"
      ]
     },
     "metadata": {
      "needs_background": "light"
     },
     "output_type": "display_data"
    }
   ],
   "source": [
    "itr=[i for i in range(iteration)]\n",
    "plt.plot(itr,losses,'-or')\n",
    "plt.title('iteration vs losses')\n",
    "plt.xlabel('iteration')\n",
    "plt.ylabel('losses')\n",
    "plt.show()\n"
   ]
  },
  {
   "cell_type": "code",
   "execution_count": 6,
   "metadata": {},
   "outputs": [],
   "source": [
    "accuracy=[(data.shape[0]-losses[i])/data.shape[0] for i in range(iteration)]"
   ]
  },
  {
   "cell_type": "code",
   "execution_count": 7,
   "metadata": {},
   "outputs": [
    {
     "data": {
      "image/png": "[encoded data removed]",
      "text/plain": [
       "<Figure size 432x288 with 1 Axes>"
      ]
     },
     "metadata": {
      "needs_background": "light"
     },
     "output_type": "display_data"
    }
   ],
   "source": [
    "\n",
    "plt.plot(itr,accuracy,'-og')\n",
    "plt.title('iteration vs accuracy')\n",
    "plt.xlabel('iteartion')\n",
    "plt.ylabel('accuracy')\n",
    "plt.show()"
   ]
  },
  {
   "cell_type": "markdown",
   "metadata": {},
   "source": [
    "confusion matrix"
   ]
  },
  {
   "cell_type": "code",
   "execution_count": 8,
   "metadata": {},
   "outputs": [],
   "source": [
    "#print(confusion_matrix(test_lbl,predicted_lbl))"
   ]
  },
  {
   "cell_type": "markdown",
   "metadata": {},
   "source": [
    "# working with test data"
   ]
  },
  {
   "cell_type": "code",
   "execution_count": 9,
   "metadata": {},
   "outputs": [],
   "source": [
    "test_data=pd.read_csv(\"dataset1/Test1.csv\",header=None,names=[\"x\",\"y\",\"l\"])\n",
    "testx_y=[]\n",
    "for i in range(test_data.shape[0]):\n",
    "    testx_y.append([test_data[\"x\"][i],test_data[\"y\"][i]])\n",
    "test_lbl=test_data[\"l\"]"
   ]
  },
  {
   "cell_type": "markdown",
   "metadata": {},
   "source": [
    "prediction for test data"
   ]
  },
  {
   "cell_type": "code",
   "execution_count": 10,
   "metadata": {},
   "outputs": [],
   "source": [
    "px=[]\n",
    "py=[]\n",
    "nx=[]\n",
    "ny=[]\n",
    "predicted_lbl=[]\n",
    "def test(cord):\n",
    "    for x_y in (cord):\n",
    "        pred=predict(x_y)\n",
    "        predicted_lbl.append(pred)\n",
    "        if(pred==1):\n",
    "            px.append(x_y[0])\n",
    "            py.append(x_y[1])\n",
    "            \n",
    "        else:\n",
    "            nx.append(x_y[0])\n",
    "            ny.append(x_y[1])\n",
    "            \n",
    "        \n",
    "            \n",
    "test(testx_y)"
   ]
  },
  {
   "cell_type": "code",
   "execution_count": 11,
   "metadata": {},
   "outputs": [
    {
     "data": {
      "image/png": "[encoded data removed]",
      "text/plain": [
       "<Figure size 432x288 with 1 Axes>"
      ]
     },
     "metadata": {
      "needs_background": "light"
     },
     "output_type": "display_data"
    }
   ],
   "source": [
    "plt.scatter(px, py,label=\"1\")\n",
    "plt.scatter(nx, ny,label=\"0\")\n",
    "plt.title('perceptron')\n",
    "plt.xlabel('x')\n",
    "plt.ylabel('y')\n",
    "plt.legend() \n",
    "plt.show()\n"
   ]
  },
  {
   "cell_type": "markdown",
   "metadata": {},
   "source": [
    "ploting of two class "
   ]
  },
  {
   "cell_type": "markdown",
   "metadata": {},
   "source": [
    "confusion matrix "
   ]
  },
  {
   "cell_type": "code",
   "execution_count": 12,
   "metadata": {},
   "outputs": [
    {
     "name": "stdout",
     "output_type": "stream",
     "text": [
      "[[123   0]\n",
      " [  0 117]]\n"
     ]
    }
   ],
   "source": [
    "print(confusion_matrix(test_lbl,predicted_lbl))"
   ]
  },
  {
   "cell_type": "code",
   "execution_count": 13,
   "metadata": {},
   "outputs": [
    {
     "name": "stdout",
     "output_type": "stream",
     "text": [
      "test_accuracy: 1.0\n"
     ]
    }
   ],
   "source": [
    "print('test_accuracy:',metrics.accuracy_score(test_lbl,predicted_lbl))"
   ]
  },
  {
   "cell_type": "code",
   "execution_count": 14,
   "metadata": {},
   "outputs": [
    {
     "data": {
      "image/png": "[encoded data removed]",
      "text/plain": [
       "<Figure size 432x288 with 1 Axes>"
      ]
     },
     "metadata": {
      "needs_background": "light"
     },
     "output_type": "display_data"
    }
   ],
   "source": [
    "minx = min(min(px),min(nx))\n",
    "maxx = max(max(px),max(nx))\n",
    "\n",
    "miny = - (weights[0] + weights[1] * minx) / weights[2]\n",
    "maxy = - (weights[0] + weights[1] * maxx) / weights[2]\n",
    "\n",
    "plt.scatter(px, py,label=\"1\")\n",
    "plt.scatter(nx, ny,label=\"0\")\n",
    "plt.legend()\n",
    "plt.title('perceptron')\n",
    "plt.xlabel('x')\n",
    "plt.ylabel('y')\n",
    "plt.plot([minx, maxx], [miny, maxy], 'or-')\n",
    "plt.show()"
   ]
  },
  {
   "cell_type": "markdown",
   "metadata": {},
   "source": [
    "# Observation\n",
    "acccuracy increases with increase in iteration\n",
    "\n",
    "loss and accuracy are inversely proportional\n",
    "\n",
    "\n",
    "accuracy for the test1 data is 100%\n",
    "\n",
    "weights=[-39.82966853   2.37663226   1.28996032]\n"
   ]
  }
 ],
 "metadata": {
  "kernelspec": {
   "display_name": "Python 3",
   "language": "python",
   "name": "python3"
  },
  "language_info": {
   "codemirror_mode": {
    "name": "ipython",
    "version": 3
   },
   "file_extension": ".py",
   "mimetype": "text/x-python",
   "name": "python",
   "nbconvert_exporter": "python",
   "pygments_lexer": "ipython3",
   "version": "3.7.3"
  }
 },
 "nbformat": 4,
 "nbformat_minor": 2
}
